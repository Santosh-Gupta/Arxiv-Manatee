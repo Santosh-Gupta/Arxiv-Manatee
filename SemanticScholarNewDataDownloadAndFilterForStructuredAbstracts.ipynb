{
  "nbformat": 4,
  "nbformat_minor": 0,
  "metadata": {
    "colab": {
      "name": "SemanticScholarNewDataDownloadAndFilterForStructuredAbstracts.ipynb",
      "version": "0.3.2",
      "provenance": [],
      "include_colab_link": true
    },
    "kernelspec": {
      "name": "python3",
      "display_name": "Python 3"
    },
    "accelerator": "GPU"
  },
  "cells": [
    {
      "cell_type": "markdown",
      "metadata": {
        "id": "view-in-github",
        "colab_type": "text"
      },
      "source": [
        "<a href=\"https://colab.research.google.com/github/Santosh-Gupta/Arxiv-Manatee/blob/master/SemanticScholarNewDataDownloadAndFilterForStructuredAbstracts.ipynb\" target=\"_parent\"><img src=\"https://colab.research.google.com/assets/colab-badge.svg\" alt=\"Open In Colab\"/></a>"
      ]
    },
    {
      "cell_type": "code",
      "metadata": {
        "id": "T2GlNzbu_iyA",
        "colab_type": "code",
        "colab": {}
      },
      "source": [
        "!pip install -U -q PyDrive\n",
        "\n",
        "from google.colab import files\n",
        "from pydrive.auth import GoogleAuth\n",
        "from pydrive.drive import GoogleDrive\n",
        "from google.colab import auth\n",
        "from oauth2client.client import GoogleCredentials\n",
        "\n",
        "import zipfile\n",
        "import os\n",
        "import sys\n",
        "import pandas as pd\n",
        "import numpy as np\n",
        "import gc\n",
        "from urllib import request\n",
        "import json\n",
        "import itertools\n",
        "import gzip\n",
        "import shutil\n",
        "\n",
        "auth.authenticate_user()\n",
        "gauth = GoogleAuth()\n",
        "gauth.credentials = GoogleCredentials.get_application_default()\n",
        "drive = GoogleDrive(gauth)\n",
        "\n",
        "# from google.colab import drive\n",
        "# drive.mount('/content/gdrive')"
      ],
      "execution_count": 0,
      "outputs": []
    },
    {
      "cell_type": "code",
      "metadata": {
        "id": "tWq_LI9z_6Io",
        "colab_type": "code",
        "colab": {}
      },
      "source": [
        "\n",
        "def dlandopen(url, file, json ):\n",
        "  request.urlretrieve(url, file )\n",
        "  with gzip.open(file, 'rb') as f_in:\n",
        "    with open(json, 'wb') as f_out:\n",
        "        shutil.copyfileobj(f_in, f_out)\n",
        "        \n",
        "  os.remove(file)\n",
        "  f = open(json)  \n",
        "  mylistH = f.readlines()\n",
        "  del f\n",
        "  print(len(mylistH))\n",
        "  return mylistH\n",
        "  "
      ],
      "execution_count": 0,
      "outputs": []
    },
    {
      "cell_type": "code",
      "metadata": {
        "id": "H1rAfb64_9DW",
        "colab_type": "code",
        "colab": {}
      },
      "source": [
        "def firstDatabase(mylist, start, finish):\n",
        "  data = []\n",
        "\n",
        "  for line in itertools.islice(mylist , start , finish):\n",
        "       data.append(json.loads(line))\n",
        "\n",
        "  df = pd.DataFrame(data)\n",
        "  del data\n",
        "  gc.collect()\n",
        "  df.head(50)\n",
        "  return df"
      ],
      "execution_count": 0,
      "outputs": []
    },
    {
      "cell_type": "code",
      "metadata": {
        "id": "-Nn0lYpX__Gf",
        "colab_type": "code",
        "colab": {}
      },
      "source": [
        "\n",
        "# def dfRefinement(dftbr):\n",
        "#   dftbr['Sources3'] = dftbr['sources'].astype('str') \n",
        "#   dftbr = dftbr[dftbr.Sources3.str.contains(\"Medline\") ]\n",
        "\n",
        "#   dftbr =  dftbr[ ( dftbr.astype(str)['outCitations'] != '[]' ) | ( dftbr.astype(str)['inCitations'] != '[]' ) ] \n",
        "\n",
        "#   dftbr['totalCites2'] = dftbr['outCitations'] + dftbr['inCitations'] \n",
        "\n",
        "#   dftbr = dftbr[ dftbr['totalCites2'].str.len() >= 45]\n",
        "\n",
        "#   dftbr = dftbr[[ 'id', 'title', 's2Url', 'totalCites2' ]]\n",
        "#   print(\"dftbr shape is \", dftbr.shape)\n",
        "#   return dftbr"
      ],
      "execution_count": 0,
      "outputs": []
    },
    {
      "cell_type": "code",
      "metadata": {
        "id": "SL-ChWLpQECJ",
        "colab_type": "code",
        "colab": {}
      },
      "source": [
        "#delete this later\n",
        "\n",
        "# url_template = 'https://s3-us-west-2.amazonaws.com/ai2-s2-research-public/open-corpus/corpus-2019-01-31/s2-corpus-{:02}.gz'\n",
        "# file_template = 'json{:02}.gz'\n",
        "# json_template = 'json{:02}'\n",
        "# numpy_templateA  = 'MedLineCorpPartA{:02}.npy'\n",
        "# numpy_templateB  = 'MedLineCorpPartB{:02}.npy'\n",
        "# numpy_templateC  = 'MedLineCorpPartC{:02}.npy'\n"
      ],
      "execution_count": 0,
      "outputs": []
    },
    {
      "cell_type": "code",
      "metadata": {
        "id": "T4rxbzQ_QOjJ",
        "colab_type": "code",
        "colab": {}
      },
      "source": [
        "# mylist = dlandopen(url_template.format(7), file_template.format(7), json_template.format(7) )"
      ],
      "execution_count": 0,
      "outputs": []
    },
    {
      "cell_type": "code",
      "metadata": {
        "id": "RdvX-UOQSXfY",
        "colab_type": "code",
        "colab": {}
      },
      "source": [
        "# df1 = firstDatabase(mylist, 0, 333333)"
      ],
      "execution_count": 0,
      "outputs": []
    },
    {
      "cell_type": "code",
      "metadata": {
        "id": "DPBIdUsrI3iA",
        "colab_type": "code",
        "colab": {}
      },
      "source": [
        ""
      ],
      "execution_count": 0,
      "outputs": []
    },
    {
      "cell_type": "code",
      "metadata": {
        "id": "gF5p-Ee9U9y2",
        "colab_type": "code",
        "colab": {}
      },
      "source": [
        "# listStrings = { \n",
        "# 'introduction' , 'case' , \n",
        "# 'literature' , 'background',  'related' , \n",
        "# 'methods' , 'method',\n",
        "# 'techniques', 'methodology',\n",
        "# 'results', 'result', 'experimental',\n",
        "# 'experiments', 'experiment',\n",
        "# 'discussion' , 'limitations',\n",
        "# 'conclusion' , 'conclusions',\n",
        "# 'concluding' ,\n",
        "# '\\nintroduction' , '\\ncase' , \n",
        "# '\\nliterature' , '\\nbackground',  '\\nrelated' , \n",
        "# '\\nmethods' , '\\nmethod',\n",
        "# '\\ntechniques', '\\nmethodology',\n",
        "# '\\nresults', '\\nresult', '\\nexperimental',\n",
        "# '\\nexperiments', '\\nexperiment',\n",
        "# '\\ndiscussion' , '\\nlimitations',\n",
        "# '\\nconclusion' , '\\nconclusions',\n",
        "# '\\nconcluding' \n",
        "# }"
      ],
      "execution_count": 0,
      "outputs": []
    },
    {
      "cell_type": "code",
      "metadata": {
        "id": "MQ_mYTcaKaC_",
        "colab_type": "code",
        "colab": {}
      },
      "source": [
        "listStrings = { \n",
        "'\\nIntroduction' , '\\nCase' , \n",
        "'\\nLiterature' , '\\nBackground',  '\\nRelated' , \n",
        "'\\nMethods' , '\\nMethod',\n",
        "'\\nTechniques', '\\nMethodology',\n",
        "'\\nResults', '\\nResult', '\\nExperimental',\n",
        "'\\nExperiments', '\\nExperiment',\n",
        "'\\nDiscussion' , '\\nLimitations',\n",
        "'\\nConclusion' , '\\nConclusions',\n",
        "'\\nConcluding' ,\n",
        "'Introduction\\n' , 'Case\\n' , \n",
        "'Literature\\n' , 'Background\\n',  'Related\\n' , \n",
        "'Methods\\n' , 'Method\\n',\n",
        "'Techniques\\n', 'Methodology\\n',\n",
        "'Results\\n', 'Result\\n', 'Experimental\\n',\n",
        "'Experiments\\n', 'Experiment\\n',\n",
        "'Discussion\\n' , 'Limitations\\n',\n",
        "'Conclusion\\n' , 'Conclusions\\n',\n",
        "'Concluding\\n' ,\n",
        "'INTRODUCTION' , 'CASE' , \n",
        "'LITERATURE' , 'BACKGROUND',  'RELATED' , \n",
        "'METHODS' , 'METHOD',\n",
        "'TECHNIQUES', 'METHODOLOGY',\n",
        "'RESULTS', 'RESULT', 'EXPERIMENTAL',\n",
        "'EXPERIMENTS', 'EXPERIMENT',\n",
        "'DISCUSSION' , 'LIMITATIONS',\n",
        "'CONCLUSION' , 'CONCLUSIONS',\n",
        "'CONCLUDING' ,\n",
        "'Introduction:' , 'Case:' , \n",
        "'Literature:' , 'Background:',  'Related:' , \n",
        "'Methods:' , 'Method:',\n",
        "'Techniques:', 'Methodology:',\n",
        "'Results:', 'Result:', 'Experimental:',\n",
        "'Experiments:', 'Experiment:',\n",
        "'Discussion:' , 'Limitations:',\n",
        "'Conclusion:' , 'Conclusions:',\n",
        "'Concluding:' ,\n",
        "}"
      ],
      "execution_count": 0,
      "outputs": []
    },
    {
      "cell_type": "code",
      "metadata": {
        "id": "i3xd_Pk6Uv_F",
        "colab_type": "code",
        "colab": {}
      },
      "source": [
        "\n",
        "def dfRefinementTesting(dftbr):\n",
        "    dftbr = dftbr[dftbr['paperAbstract'].str.findall('|'.join(listStrings)).map(len)>=2]\n",
        "    \n",
        "    dftbr =  dftbr[ ( dftbr.astype(str)['pdfUrls'] != '[]' ) | ( dftbr.astype(str)['s2PdfUrl'] != '' ) ] \n",
        "    \n",
        "    dftbr = dftbr[[ 'title', 'paperAbstract', 'pdfUrls', 's2PdfUrl' , 's2Url' ]]\n",
        "    return dftbr\n"
      ],
      "execution_count": 0,
      "outputs": []
    },
    {
      "cell_type": "code",
      "metadata": {
        "id": "3X6FUtWzTFYY",
        "colab_type": "code",
        "colab": {}
      },
      "source": [
        "# df1r = dfRefinementTesting(df1)"
      ],
      "execution_count": 0,
      "outputs": []
    },
    {
      "cell_type": "code",
      "metadata": {
        "id": "q7YXE18BWR1c",
        "colab_type": "code",
        "colab": {}
      },
      "source": [
        "pd.set_option('max_colwidth', 3000)"
      ],
      "execution_count": 0,
      "outputs": []
    },
    {
      "cell_type": "code",
      "metadata": {
        "id": "CMq3PZYrQbSI",
        "colab_type": "code",
        "colab": {}
      },
      "source": [
        "#https://s3-us-west-2.amazonaws.com/ai2-s2-research-public/open-corpus/"
      ],
      "execution_count": 0,
      "outputs": []
    },
    {
      "cell_type": "code",
      "metadata": {
        "id": "tD2QLvh8ABlf",
        "colab_type": "code",
        "outputId": "f11faa9d-8e7c-4c5c-c98d-a9218314b9e5",
        "colab": {
          "base_uri": "https://localhost:8080/",
          "height": 2810
        }
      },
      "source": [
        "url_template = 'https://s3-us-west-2.amazonaws.com/ai2-s2-research-public/open-corpus/corpus-2019-01-31/s2-corpus-{:02}.gz'\n",
        "file_template = 'json{:02}.gz'\n",
        "json_template = 'json{:02}'\n",
        "# numpy_templateA  = 'MedLineCorpPartA{:02}.npy'\n",
        "# numpy_templateB  = 'MedLineCorpPartB{:02}.npy'\n",
        "numpy_templateC  = 'SectionalSummarizationData{:02}.npy'\n",
        "\n",
        "for i in range(23, 48):\n",
        "    print(url_template.format(i))\n",
        "    mylist = dlandopen(url_template.format(i), file_template.format(i), json_template.format(i) )\n",
        "    \n",
        "    print(\"part1\")\n",
        "    df1 = firstDatabase(mylist, 0, 333333)\n",
        "    df1.head()\n",
        "    df1r = dfRefinementTesting(df1)\n",
        "    df1r.head()\n",
        "    del df1\n",
        "    \n",
        "    print(\"part2\")\n",
        "    df2 = firstDatabase(mylist, 333333, 666666)\n",
        "    df2.head()\n",
        "    df2r = dfRefinementTesting(df2)\n",
        "    df2r.head()\n",
        "    del df2\n",
        "    \n",
        "    print(\"part3\")\n",
        "    df3 = firstDatabase(mylist, 666666, 1000001)\n",
        "    df3.head()\n",
        "    df3r = dfRefinementTesting(df3)\n",
        "    df3r.head()\n",
        "    del df3\n",
        "    \n",
        "    fullresult = pd.concat([df1r, df2r, df3r])\n",
        "\n",
        "    del df1r\n",
        "    del df2r\n",
        "    del df3r\n",
        "    \n",
        "    print( fullresult.shape)\n",
        "\n",
        "    partCnumpy= fullresult.values\n",
        "    del fullresult\n",
        "    gc.collect()\n",
        "    \n",
        "    np.save(numpy_templateC.format(i), partCnumpy)\n",
        "    del partCnumpy\n",
        "    gc.collect()\n",
        "    drive = GoogleDrive(gauth) \n",
        "    uploadModel = drive.CreateFile()\n",
        "    uploadModel.SetContentFile( numpy_templateC.format(i) ) \n",
        "    uploadModel.Upload()\n",
        "    os.remove( numpy_templateC.format(i) ) "
      ],
      "execution_count": 0,
      "outputs": [
        {
          "output_type": "stream",
          "text": [
            "https://s3-us-west-2.amazonaws.com/ai2-s2-research-public/open-corpus/corpus-2019-01-31/s2-corpus-23.gz\n",
            "1000000\n",
            "part1\n",
            "part2\n",
            "part3\n",
            "(29878, 5)\n",
            "https://s3-us-west-2.amazonaws.com/ai2-s2-research-public/open-corpus/corpus-2019-01-31/s2-corpus-24.gz\n",
            "1000000\n",
            "part1\n",
            "part2\n",
            "part3\n",
            "(29624, 5)\n",
            "https://s3-us-west-2.amazonaws.com/ai2-s2-research-public/open-corpus/corpus-2019-01-31/s2-corpus-25.gz\n",
            "1000000\n",
            "part1\n",
            "part2\n",
            "part3\n",
            "(29728, 5)\n",
            "https://s3-us-west-2.amazonaws.com/ai2-s2-research-public/open-corpus/corpus-2019-01-31/s2-corpus-26.gz\n",
            "1000000\n",
            "part1\n",
            "part2\n",
            "part3\n",
            "(29266, 5)\n",
            "https://s3-us-west-2.amazonaws.com/ai2-s2-research-public/open-corpus/corpus-2019-01-31/s2-corpus-27.gz\n",
            "1000000\n",
            "part1\n",
            "part2\n",
            "part3\n",
            "(29330, 5)\n",
            "https://s3-us-west-2.amazonaws.com/ai2-s2-research-public/open-corpus/corpus-2019-01-31/s2-corpus-28.gz\n",
            "1000000\n",
            "part1\n",
            "part2\n",
            "part3\n",
            "(29944, 5)\n",
            "https://s3-us-west-2.amazonaws.com/ai2-s2-research-public/open-corpus/corpus-2019-01-31/s2-corpus-29.gz\n",
            "1000000\n",
            "part1\n",
            "part2\n",
            "part3\n",
            "(29553, 5)\n",
            "https://s3-us-west-2.amazonaws.com/ai2-s2-research-public/open-corpus/corpus-2019-01-31/s2-corpus-30.gz\n",
            "1000000\n",
            "part1\n",
            "part2\n",
            "part3\n",
            "(29639, 5)\n",
            "https://s3-us-west-2.amazonaws.com/ai2-s2-research-public/open-corpus/corpus-2019-01-31/s2-corpus-31.gz\n",
            "1000000\n",
            "part1\n",
            "part2\n",
            "part3\n",
            "(29502, 5)\n",
            "https://s3-us-west-2.amazonaws.com/ai2-s2-research-public/open-corpus/corpus-2019-01-31/s2-corpus-32.gz\n",
            "1000000\n",
            "part1\n",
            "part2\n",
            "part3\n",
            "(29548, 5)\n",
            "https://s3-us-west-2.amazonaws.com/ai2-s2-research-public/open-corpus/corpus-2019-01-31/s2-corpus-33.gz\n",
            "1000000\n",
            "part1\n",
            "part2\n",
            "part3\n",
            "(29284, 5)\n",
            "https://s3-us-west-2.amazonaws.com/ai2-s2-research-public/open-corpus/corpus-2019-01-31/s2-corpus-34.gz\n",
            "1000000\n",
            "part1\n",
            "part2\n",
            "part3\n",
            "(29614, 5)\n",
            "https://s3-us-west-2.amazonaws.com/ai2-s2-research-public/open-corpus/corpus-2019-01-31/s2-corpus-35.gz\n",
            "1000000\n",
            "part1\n",
            "part2\n",
            "part3\n",
            "(29601, 5)\n",
            "https://s3-us-west-2.amazonaws.com/ai2-s2-research-public/open-corpus/corpus-2019-01-31/s2-corpus-36.gz\n",
            "1000000\n",
            "part1\n",
            "part2\n",
            "part3\n",
            "(29380, 5)\n",
            "https://s3-us-west-2.amazonaws.com/ai2-s2-research-public/open-corpus/corpus-2019-01-31/s2-corpus-37.gz\n",
            "1000000\n",
            "part1\n",
            "part2\n",
            "part3\n",
            "(29547, 5)\n",
            "https://s3-us-west-2.amazonaws.com/ai2-s2-research-public/open-corpus/corpus-2019-01-31/s2-corpus-38.gz\n",
            "1000000\n",
            "part1\n",
            "part2\n",
            "part3\n",
            "(29563, 5)\n",
            "https://s3-us-west-2.amazonaws.com/ai2-s2-research-public/open-corpus/corpus-2019-01-31/s2-corpus-39.gz\n",
            "1000000\n",
            "part1\n",
            "part2\n",
            "part3\n",
            "(29339, 5)\n",
            "https://s3-us-west-2.amazonaws.com/ai2-s2-research-public/open-corpus/corpus-2019-01-31/s2-corpus-40.gz\n",
            "1000000\n",
            "part1\n",
            "part2\n",
            "part3\n",
            "(29603, 5)\n",
            "https://s3-us-west-2.amazonaws.com/ai2-s2-research-public/open-corpus/corpus-2019-01-31/s2-corpus-41.gz\n",
            "1000000\n",
            "part1\n",
            "part2\n",
            "part3\n",
            "(29167, 5)\n",
            "https://s3-us-west-2.amazonaws.com/ai2-s2-research-public/open-corpus/corpus-2019-01-31/s2-corpus-42.gz\n",
            "1000000\n",
            "part1\n",
            "part2\n",
            "part3\n",
            "(29236, 5)\n",
            "https://s3-us-west-2.amazonaws.com/ai2-s2-research-public/open-corpus/corpus-2019-01-31/s2-corpus-43.gz\n",
            "1000000\n",
            "part1\n",
            "part2\n",
            "part3\n",
            "(29582, 5)\n",
            "https://s3-us-west-2.amazonaws.com/ai2-s2-research-public/open-corpus/corpus-2019-01-31/s2-corpus-44.gz\n",
            "1000000\n",
            "part1\n",
            "part2\n",
            "part3\n",
            "(29846, 5)\n",
            "https://s3-us-west-2.amazonaws.com/ai2-s2-research-public/open-corpus/corpus-2019-01-31/s2-corpus-45.gz\n",
            "1000000\n",
            "part1\n",
            "part2\n",
            "part3\n",
            "(29938, 5)\n",
            "https://s3-us-west-2.amazonaws.com/ai2-s2-research-public/open-corpus/corpus-2019-01-31/s2-corpus-46.gz\n",
            "947044\n",
            "part1\n",
            "part2\n",
            "part3\n",
            "(28010, 5)\n",
            "https://s3-us-west-2.amazonaws.com/ai2-s2-research-public/open-corpus/corpus-2019-01-31/s2-corpus-47.gz\n"
          ],
          "name": "stdout"
        },
        {
          "output_type": "error",
          "ename": "HTTPError",
          "evalue": "ignored",
          "traceback": [
            "\u001b[0;31m---------------------------------------------------------------------------\u001b[0m",
            "\u001b[0;31mHTTPError\u001b[0m                                 Traceback (most recent call last)",
            "\u001b[0;32m<ipython-input-26-52718b1ada3a>\u001b[0m in \u001b[0;36m<module>\u001b[0;34m()\u001b[0m\n\u001b[1;32m      8\u001b[0m \u001b[0;32mfor\u001b[0m \u001b[0mi\u001b[0m \u001b[0;32min\u001b[0m \u001b[0mrange\u001b[0m\u001b[0;34m(\u001b[0m\u001b[0;36m23\u001b[0m\u001b[0;34m,\u001b[0m \u001b[0;36m48\u001b[0m\u001b[0;34m)\u001b[0m\u001b[0;34m:\u001b[0m\u001b[0;34m\u001b[0m\u001b[0;34m\u001b[0m\u001b[0m\n\u001b[1;32m      9\u001b[0m     \u001b[0mprint\u001b[0m\u001b[0;34m(\u001b[0m\u001b[0murl_template\u001b[0m\u001b[0;34m.\u001b[0m\u001b[0mformat\u001b[0m\u001b[0;34m(\u001b[0m\u001b[0mi\u001b[0m\u001b[0;34m)\u001b[0m\u001b[0;34m)\u001b[0m\u001b[0;34m\u001b[0m\u001b[0;34m\u001b[0m\u001b[0m\n\u001b[0;32m---> 10\u001b[0;31m     \u001b[0mmylist\u001b[0m \u001b[0;34m=\u001b[0m \u001b[0mdlandopen\u001b[0m\u001b[0;34m(\u001b[0m\u001b[0murl_template\u001b[0m\u001b[0;34m.\u001b[0m\u001b[0mformat\u001b[0m\u001b[0;34m(\u001b[0m\u001b[0mi\u001b[0m\u001b[0;34m)\u001b[0m\u001b[0;34m,\u001b[0m \u001b[0mfile_template\u001b[0m\u001b[0;34m.\u001b[0m\u001b[0mformat\u001b[0m\u001b[0;34m(\u001b[0m\u001b[0mi\u001b[0m\u001b[0;34m)\u001b[0m\u001b[0;34m,\u001b[0m \u001b[0mjson_template\u001b[0m\u001b[0;34m.\u001b[0m\u001b[0mformat\u001b[0m\u001b[0;34m(\u001b[0m\u001b[0mi\u001b[0m\u001b[0;34m)\u001b[0m \u001b[0;34m)\u001b[0m\u001b[0;34m\u001b[0m\u001b[0;34m\u001b[0m\u001b[0m\n\u001b[0m\u001b[1;32m     11\u001b[0m \u001b[0;34m\u001b[0m\u001b[0m\n\u001b[1;32m     12\u001b[0m     \u001b[0mprint\u001b[0m\u001b[0;34m(\u001b[0m\u001b[0;34m\"part1\"\u001b[0m\u001b[0;34m)\u001b[0m\u001b[0;34m\u001b[0m\u001b[0;34m\u001b[0m\u001b[0m\n",
            "\u001b[0;32m<ipython-input-15-42722b948227>\u001b[0m in \u001b[0;36mdlandopen\u001b[0;34m(url, file, json)\u001b[0m\n\u001b[1;32m      1\u001b[0m \u001b[0;34m\u001b[0m\u001b[0m\n\u001b[1;32m      2\u001b[0m \u001b[0;32mdef\u001b[0m \u001b[0mdlandopen\u001b[0m\u001b[0;34m(\u001b[0m\u001b[0murl\u001b[0m\u001b[0;34m,\u001b[0m \u001b[0mfile\u001b[0m\u001b[0;34m,\u001b[0m \u001b[0mjson\u001b[0m \u001b[0;34m)\u001b[0m\u001b[0;34m:\u001b[0m\u001b[0;34m\u001b[0m\u001b[0;34m\u001b[0m\u001b[0m\n\u001b[0;32m----> 3\u001b[0;31m   \u001b[0mrequest\u001b[0m\u001b[0;34m.\u001b[0m\u001b[0murlretrieve\u001b[0m\u001b[0;34m(\u001b[0m\u001b[0murl\u001b[0m\u001b[0;34m,\u001b[0m \u001b[0mfile\u001b[0m \u001b[0;34m)\u001b[0m\u001b[0;34m\u001b[0m\u001b[0;34m\u001b[0m\u001b[0m\n\u001b[0m\u001b[1;32m      4\u001b[0m   \u001b[0;32mwith\u001b[0m \u001b[0mgzip\u001b[0m\u001b[0;34m.\u001b[0m\u001b[0mopen\u001b[0m\u001b[0;34m(\u001b[0m\u001b[0mfile\u001b[0m\u001b[0;34m,\u001b[0m \u001b[0;34m'rb'\u001b[0m\u001b[0;34m)\u001b[0m \u001b[0;32mas\u001b[0m \u001b[0mf_in\u001b[0m\u001b[0;34m:\u001b[0m\u001b[0;34m\u001b[0m\u001b[0;34m\u001b[0m\u001b[0m\n\u001b[1;32m      5\u001b[0m     \u001b[0;32mwith\u001b[0m \u001b[0mopen\u001b[0m\u001b[0;34m(\u001b[0m\u001b[0mjson\u001b[0m\u001b[0;34m,\u001b[0m \u001b[0;34m'wb'\u001b[0m\u001b[0;34m)\u001b[0m \u001b[0;32mas\u001b[0m \u001b[0mf_out\u001b[0m\u001b[0;34m:\u001b[0m\u001b[0;34m\u001b[0m\u001b[0;34m\u001b[0m\u001b[0m\n",
            "\u001b[0;32m/usr/lib/python3.6/urllib/request.py\u001b[0m in \u001b[0;36murlretrieve\u001b[0;34m(url, filename, reporthook, data)\u001b[0m\n\u001b[1;32m    246\u001b[0m     \u001b[0murl_type\u001b[0m\u001b[0;34m,\u001b[0m \u001b[0mpath\u001b[0m \u001b[0;34m=\u001b[0m \u001b[0msplittype\u001b[0m\u001b[0;34m(\u001b[0m\u001b[0murl\u001b[0m\u001b[0;34m)\u001b[0m\u001b[0;34m\u001b[0m\u001b[0;34m\u001b[0m\u001b[0m\n\u001b[1;32m    247\u001b[0m \u001b[0;34m\u001b[0m\u001b[0m\n\u001b[0;32m--> 248\u001b[0;31m     \u001b[0;32mwith\u001b[0m \u001b[0mcontextlib\u001b[0m\u001b[0;34m.\u001b[0m\u001b[0mclosing\u001b[0m\u001b[0;34m(\u001b[0m\u001b[0murlopen\u001b[0m\u001b[0;34m(\u001b[0m\u001b[0murl\u001b[0m\u001b[0;34m,\u001b[0m \u001b[0mdata\u001b[0m\u001b[0;34m)\u001b[0m\u001b[0;34m)\u001b[0m \u001b[0;32mas\u001b[0m \u001b[0mfp\u001b[0m\u001b[0;34m:\u001b[0m\u001b[0;34m\u001b[0m\u001b[0;34m\u001b[0m\u001b[0m\n\u001b[0m\u001b[1;32m    249\u001b[0m         \u001b[0mheaders\u001b[0m \u001b[0;34m=\u001b[0m \u001b[0mfp\u001b[0m\u001b[0;34m.\u001b[0m\u001b[0minfo\u001b[0m\u001b[0;34m(\u001b[0m\u001b[0;34m)\u001b[0m\u001b[0;34m\u001b[0m\u001b[0;34m\u001b[0m\u001b[0m\n\u001b[1;32m    250\u001b[0m \u001b[0;34m\u001b[0m\u001b[0m\n",
            "\u001b[0;32m/usr/lib/python3.6/urllib/request.py\u001b[0m in \u001b[0;36murlopen\u001b[0;34m(url, data, timeout, cafile, capath, cadefault, context)\u001b[0m\n\u001b[1;32m    221\u001b[0m     \u001b[0;32melse\u001b[0m\u001b[0;34m:\u001b[0m\u001b[0;34m\u001b[0m\u001b[0;34m\u001b[0m\u001b[0m\n\u001b[1;32m    222\u001b[0m         \u001b[0mopener\u001b[0m \u001b[0;34m=\u001b[0m \u001b[0m_opener\u001b[0m\u001b[0;34m\u001b[0m\u001b[0;34m\u001b[0m\u001b[0m\n\u001b[0;32m--> 223\u001b[0;31m     \u001b[0;32mreturn\u001b[0m \u001b[0mopener\u001b[0m\u001b[0;34m.\u001b[0m\u001b[0mopen\u001b[0m\u001b[0;34m(\u001b[0m\u001b[0murl\u001b[0m\u001b[0;34m,\u001b[0m \u001b[0mdata\u001b[0m\u001b[0;34m,\u001b[0m \u001b[0mtimeout\u001b[0m\u001b[0;34m)\u001b[0m\u001b[0;34m\u001b[0m\u001b[0;34m\u001b[0m\u001b[0m\n\u001b[0m\u001b[1;32m    224\u001b[0m \u001b[0;34m\u001b[0m\u001b[0m\n\u001b[1;32m    225\u001b[0m \u001b[0;32mdef\u001b[0m \u001b[0minstall_opener\u001b[0m\u001b[0;34m(\u001b[0m\u001b[0mopener\u001b[0m\u001b[0;34m)\u001b[0m\u001b[0;34m:\u001b[0m\u001b[0;34m\u001b[0m\u001b[0;34m\u001b[0m\u001b[0m\n",
            "\u001b[0;32m/usr/lib/python3.6/urllib/request.py\u001b[0m in \u001b[0;36mopen\u001b[0;34m(self, fullurl, data, timeout)\u001b[0m\n\u001b[1;32m    530\u001b[0m         \u001b[0;32mfor\u001b[0m \u001b[0mprocessor\u001b[0m \u001b[0;32min\u001b[0m \u001b[0mself\u001b[0m\u001b[0;34m.\u001b[0m\u001b[0mprocess_response\u001b[0m\u001b[0;34m.\u001b[0m\u001b[0mget\u001b[0m\u001b[0;34m(\u001b[0m\u001b[0mprotocol\u001b[0m\u001b[0;34m,\u001b[0m \u001b[0;34m[\u001b[0m\u001b[0;34m]\u001b[0m\u001b[0;34m)\u001b[0m\u001b[0;34m:\u001b[0m\u001b[0;34m\u001b[0m\u001b[0;34m\u001b[0m\u001b[0m\n\u001b[1;32m    531\u001b[0m             \u001b[0mmeth\u001b[0m \u001b[0;34m=\u001b[0m \u001b[0mgetattr\u001b[0m\u001b[0;34m(\u001b[0m\u001b[0mprocessor\u001b[0m\u001b[0;34m,\u001b[0m \u001b[0mmeth_name\u001b[0m\u001b[0;34m)\u001b[0m\u001b[0;34m\u001b[0m\u001b[0;34m\u001b[0m\u001b[0m\n\u001b[0;32m--> 532\u001b[0;31m             \u001b[0mresponse\u001b[0m \u001b[0;34m=\u001b[0m \u001b[0mmeth\u001b[0m\u001b[0;34m(\u001b[0m\u001b[0mreq\u001b[0m\u001b[0;34m,\u001b[0m \u001b[0mresponse\u001b[0m\u001b[0;34m)\u001b[0m\u001b[0;34m\u001b[0m\u001b[0;34m\u001b[0m\u001b[0m\n\u001b[0m\u001b[1;32m    533\u001b[0m \u001b[0;34m\u001b[0m\u001b[0m\n\u001b[1;32m    534\u001b[0m         \u001b[0;32mreturn\u001b[0m \u001b[0mresponse\u001b[0m\u001b[0;34m\u001b[0m\u001b[0;34m\u001b[0m\u001b[0m\n",
            "\u001b[0;32m/usr/lib/python3.6/urllib/request.py\u001b[0m in \u001b[0;36mhttp_response\u001b[0;34m(self, request, response)\u001b[0m\n\u001b[1;32m    640\u001b[0m         \u001b[0;32mif\u001b[0m \u001b[0;32mnot\u001b[0m \u001b[0;34m(\u001b[0m\u001b[0;36m200\u001b[0m \u001b[0;34m<=\u001b[0m \u001b[0mcode\u001b[0m \u001b[0;34m<\u001b[0m \u001b[0;36m300\u001b[0m\u001b[0;34m)\u001b[0m\u001b[0;34m:\u001b[0m\u001b[0;34m\u001b[0m\u001b[0;34m\u001b[0m\u001b[0m\n\u001b[1;32m    641\u001b[0m             response = self.parent.error(\n\u001b[0;32m--> 642\u001b[0;31m                 'http', request, response, code, msg, hdrs)\n\u001b[0m\u001b[1;32m    643\u001b[0m \u001b[0;34m\u001b[0m\u001b[0m\n\u001b[1;32m    644\u001b[0m         \u001b[0;32mreturn\u001b[0m \u001b[0mresponse\u001b[0m\u001b[0;34m\u001b[0m\u001b[0;34m\u001b[0m\u001b[0m\n",
            "\u001b[0;32m/usr/lib/python3.6/urllib/request.py\u001b[0m in \u001b[0;36merror\u001b[0;34m(self, proto, *args)\u001b[0m\n\u001b[1;32m    568\u001b[0m         \u001b[0;32mif\u001b[0m \u001b[0mhttp_err\u001b[0m\u001b[0;34m:\u001b[0m\u001b[0;34m\u001b[0m\u001b[0;34m\u001b[0m\u001b[0m\n\u001b[1;32m    569\u001b[0m             \u001b[0margs\u001b[0m \u001b[0;34m=\u001b[0m \u001b[0;34m(\u001b[0m\u001b[0mdict\u001b[0m\u001b[0;34m,\u001b[0m \u001b[0;34m'default'\u001b[0m\u001b[0;34m,\u001b[0m \u001b[0;34m'http_error_default'\u001b[0m\u001b[0;34m)\u001b[0m \u001b[0;34m+\u001b[0m \u001b[0morig_args\u001b[0m\u001b[0;34m\u001b[0m\u001b[0;34m\u001b[0m\u001b[0m\n\u001b[0;32m--> 570\u001b[0;31m             \u001b[0;32mreturn\u001b[0m \u001b[0mself\u001b[0m\u001b[0;34m.\u001b[0m\u001b[0m_call_chain\u001b[0m\u001b[0;34m(\u001b[0m\u001b[0;34m*\u001b[0m\u001b[0margs\u001b[0m\u001b[0;34m)\u001b[0m\u001b[0;34m\u001b[0m\u001b[0;34m\u001b[0m\u001b[0m\n\u001b[0m\u001b[1;32m    571\u001b[0m \u001b[0;34m\u001b[0m\u001b[0m\n\u001b[1;32m    572\u001b[0m \u001b[0;31m# XXX probably also want an abstract factory that knows when it makes\u001b[0m\u001b[0;34m\u001b[0m\u001b[0;34m\u001b[0m\u001b[0;34m\u001b[0m\u001b[0m\n",
            "\u001b[0;32m/usr/lib/python3.6/urllib/request.py\u001b[0m in \u001b[0;36m_call_chain\u001b[0;34m(self, chain, kind, meth_name, *args)\u001b[0m\n\u001b[1;32m    502\u001b[0m         \u001b[0;32mfor\u001b[0m \u001b[0mhandler\u001b[0m \u001b[0;32min\u001b[0m \u001b[0mhandlers\u001b[0m\u001b[0;34m:\u001b[0m\u001b[0;34m\u001b[0m\u001b[0;34m\u001b[0m\u001b[0m\n\u001b[1;32m    503\u001b[0m             \u001b[0mfunc\u001b[0m \u001b[0;34m=\u001b[0m \u001b[0mgetattr\u001b[0m\u001b[0;34m(\u001b[0m\u001b[0mhandler\u001b[0m\u001b[0;34m,\u001b[0m \u001b[0mmeth_name\u001b[0m\u001b[0;34m)\u001b[0m\u001b[0;34m\u001b[0m\u001b[0;34m\u001b[0m\u001b[0m\n\u001b[0;32m--> 504\u001b[0;31m             \u001b[0mresult\u001b[0m \u001b[0;34m=\u001b[0m \u001b[0mfunc\u001b[0m\u001b[0;34m(\u001b[0m\u001b[0;34m*\u001b[0m\u001b[0margs\u001b[0m\u001b[0;34m)\u001b[0m\u001b[0;34m\u001b[0m\u001b[0;34m\u001b[0m\u001b[0m\n\u001b[0m\u001b[1;32m    505\u001b[0m             \u001b[0;32mif\u001b[0m \u001b[0mresult\u001b[0m \u001b[0;32mis\u001b[0m \u001b[0;32mnot\u001b[0m \u001b[0;32mNone\u001b[0m\u001b[0;34m:\u001b[0m\u001b[0;34m\u001b[0m\u001b[0;34m\u001b[0m\u001b[0m\n\u001b[1;32m    506\u001b[0m                 \u001b[0;32mreturn\u001b[0m \u001b[0mresult\u001b[0m\u001b[0;34m\u001b[0m\u001b[0;34m\u001b[0m\u001b[0m\n",
            "\u001b[0;32m/usr/lib/python3.6/urllib/request.py\u001b[0m in \u001b[0;36mhttp_error_default\u001b[0;34m(self, req, fp, code, msg, hdrs)\u001b[0m\n\u001b[1;32m    648\u001b[0m \u001b[0;32mclass\u001b[0m \u001b[0mHTTPDefaultErrorHandler\u001b[0m\u001b[0;34m(\u001b[0m\u001b[0mBaseHandler\u001b[0m\u001b[0;34m)\u001b[0m\u001b[0;34m:\u001b[0m\u001b[0;34m\u001b[0m\u001b[0;34m\u001b[0m\u001b[0m\n\u001b[1;32m    649\u001b[0m     \u001b[0;32mdef\u001b[0m \u001b[0mhttp_error_default\u001b[0m\u001b[0;34m(\u001b[0m\u001b[0mself\u001b[0m\u001b[0;34m,\u001b[0m \u001b[0mreq\u001b[0m\u001b[0;34m,\u001b[0m \u001b[0mfp\u001b[0m\u001b[0;34m,\u001b[0m \u001b[0mcode\u001b[0m\u001b[0;34m,\u001b[0m \u001b[0mmsg\u001b[0m\u001b[0;34m,\u001b[0m \u001b[0mhdrs\u001b[0m\u001b[0;34m)\u001b[0m\u001b[0;34m:\u001b[0m\u001b[0;34m\u001b[0m\u001b[0;34m\u001b[0m\u001b[0m\n\u001b[0;32m--> 650\u001b[0;31m         \u001b[0;32mraise\u001b[0m \u001b[0mHTTPError\u001b[0m\u001b[0;34m(\u001b[0m\u001b[0mreq\u001b[0m\u001b[0;34m.\u001b[0m\u001b[0mfull_url\u001b[0m\u001b[0;34m,\u001b[0m \u001b[0mcode\u001b[0m\u001b[0;34m,\u001b[0m \u001b[0mmsg\u001b[0m\u001b[0;34m,\u001b[0m \u001b[0mhdrs\u001b[0m\u001b[0;34m,\u001b[0m \u001b[0mfp\u001b[0m\u001b[0;34m)\u001b[0m\u001b[0;34m\u001b[0m\u001b[0;34m\u001b[0m\u001b[0m\n\u001b[0m\u001b[1;32m    651\u001b[0m \u001b[0;34m\u001b[0m\u001b[0m\n\u001b[1;32m    652\u001b[0m \u001b[0;32mclass\u001b[0m \u001b[0mHTTPRedirectHandler\u001b[0m\u001b[0;34m(\u001b[0m\u001b[0mBaseHandler\u001b[0m\u001b[0;34m)\u001b[0m\u001b[0;34m:\u001b[0m\u001b[0;34m\u001b[0m\u001b[0;34m\u001b[0m\u001b[0m\n",
            "\u001b[0;31mHTTPError\u001b[0m: HTTP Error 404: Not Found"
          ]
        }
      ]
    }
  ]
}